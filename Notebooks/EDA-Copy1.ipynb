{
 "cells": [
  {
   "cell_type": "code",
   "execution_count": null,
   "metadata": {},
   "outputs": [],
   "source": [
    "# dont go down a rabit hole!!!! --> PS\n",
    "# subject matter knowledge --> PS"
   ]
  },
  {
   "cell_type": "code",
   "execution_count": 1,
   "metadata": {
    "collapsed": true
   },
   "outputs": [],
   "source": [
    "import pandas as pd\n",
    "import numpy as np\n",
    "import matplotlib.pyplot as plt\n",
    "import seaborn as sns\n",
    "\n",
    "%matplotlib inline\n",
    "\n",
    "import re\n",
    "# plt.style.use('dark_background')\n",
    "plt.style.use('ggplot')"
   ]
  },
  {
   "cell_type": "code",
   "execution_count": 10,
   "metadata": {
    "collapsed": true
   },
   "outputs": [],
   "source": [
    "# census = pd.read_csv('./Unmerged Data/Census_Data_2010.csv', encoding='latin-1')\n",
    "grad_rates = pd.read_csv('./Unmerged Data/Graduation_Rates.csv', encoding='latin-1')\n",
    "# tract_overlap = pd.read_csv('./Unmerged Data/Max_Tract_Overlap.csv', encoding='latin-1')\n",
    "# sd_tract = pd.read_csv('./Unmerged Data/SD_TRACT_MAPPING2010.csv', encoding='latin-1')\n",
    "\n",
    "\n",
    "crime = pd.read_csv('./Unmerged Data/Other Data/CrimeOneYearofData.csv', encoding='latin-1')\n",
    "pre_merged = pd.read_csv('./Unmerged Data/Pre_Merged_Data.csv', encoding='latin-1')"
   ]
  },
  {
   "cell_type": "code",
   "execution_count": 3,
   "metadata": {},
   "outputs": [
    {
     "data": {
      "text/html": [
       "<div>\n",
       "<style>\n",
       "    .dataframe thead tr:only-child th {\n",
       "        text-align: right;\n",
       "    }\n",
       "\n",
       "    .dataframe thead th {\n",
       "        text-align: left;\n",
       "    }\n",
       "\n",
       "    .dataframe tbody tr th {\n",
       "        vertical-align: top;\n",
       "    }\n",
       "</style>\n",
       "<table border=\"1\" class=\"dataframe\">\n",
       "  <thead>\n",
       "    <tr style=\"text-align: right;\">\n",
       "      <th></th>\n",
       "      <th>Unnamed: 0</th>\n",
       "      <th>leaid11</th>\n",
       "      <th>STNAM</th>\n",
       "      <th>FIPST</th>\n",
       "      <th>leanm11</th>\n",
       "      <th>ALL_COHORT_1112</th>\n",
       "      <th>ALL_RATE_1112</th>\n",
       "      <th>MAM_COHORT_1112</th>\n",
       "      <th>MAM_RATE_1112</th>\n",
       "      <th>MAS_COHORT_1112</th>\n",
       "      <th>...</th>\n",
       "      <th>pct_TEA_MailOutMailBack_CEN_2010</th>\n",
       "      <th>pct_TEA_Update_Leave_CEN_2010</th>\n",
       "      <th>pct_Census_Mail_Returns_CEN_2010</th>\n",
       "      <th>pct_Vacant_CEN_2010</th>\n",
       "      <th>pct_Deletes_CEN_2010</th>\n",
       "      <th>pct_Census_UAA_CEN_2010</th>\n",
       "      <th>pct_Mailback_Count_CEN_2010</th>\n",
       "      <th>pct_FRST_FRMS_CEN_2010</th>\n",
       "      <th>pct_RPLCMNT_FRMS_CEN_2010</th>\n",
       "      <th>pct_BILQ_Mailout_count_CEN_2010</th>\n",
       "    </tr>\n",
       "  </thead>\n",
       "  <tbody>\n",
       "    <tr>\n",
       "      <th>0</th>\n",
       "      <td>1</td>\n",
       "      <td>100005</td>\n",
       "      <td>ALABAMA</td>\n",
       "      <td>1</td>\n",
       "      <td>Albertville City</td>\n",
       "      <td>268</td>\n",
       "      <td>83.0</td>\n",
       "      <td>NaN</td>\n",
       "      <td>NaN</td>\n",
       "      <td>NaN</td>\n",
       "      <td>...</td>\n",
       "      <td>100.0</td>\n",
       "      <td>0.0</td>\n",
       "      <td>63.14</td>\n",
       "      <td>2.48</td>\n",
       "      <td>0.0</td>\n",
       "      <td>10.39</td>\n",
       "      <td>87.13</td>\n",
       "      <td>55.74</td>\n",
       "      <td>7.40</td>\n",
       "      <td>0.0</td>\n",
       "    </tr>\n",
       "    <tr>\n",
       "      <th>1</th>\n",
       "      <td>2</td>\n",
       "      <td>100006</td>\n",
       "      <td>ALABAMA</td>\n",
       "      <td>1</td>\n",
       "      <td>Marshall County</td>\n",
       "      <td>424</td>\n",
       "      <td>79.0</td>\n",
       "      <td>2.0</td>\n",
       "      <td>PS</td>\n",
       "      <td>1.0</td>\n",
       "      <td>...</td>\n",
       "      <td>100.0</td>\n",
       "      <td>0.0</td>\n",
       "      <td>63.27</td>\n",
       "      <td>3.52</td>\n",
       "      <td>0.0</td>\n",
       "      <td>17.02</td>\n",
       "      <td>79.45</td>\n",
       "      <td>56.31</td>\n",
       "      <td>6.96</td>\n",
       "      <td>0.0</td>\n",
       "    </tr>\n",
       "    <tr>\n",
       "      <th>2</th>\n",
       "      <td>3</td>\n",
       "      <td>100007</td>\n",
       "      <td>ALABAMA</td>\n",
       "      <td>1</td>\n",
       "      <td>Hoover City</td>\n",
       "      <td>1042</td>\n",
       "      <td>91.0</td>\n",
       "      <td>1.0</td>\n",
       "      <td>PS</td>\n",
       "      <td>71.0</td>\n",
       "      <td>...</td>\n",
       "      <td>100.0</td>\n",
       "      <td>0.0</td>\n",
       "      <td>81.77</td>\n",
       "      <td>1.97</td>\n",
       "      <td>0.0</td>\n",
       "      <td>2.98</td>\n",
       "      <td>95.06</td>\n",
       "      <td>81.77</td>\n",
       "      <td>0.00</td>\n",
       "      <td>0.0</td>\n",
       "    </tr>\n",
       "    <tr>\n",
       "      <th>3</th>\n",
       "      <td>4</td>\n",
       "      <td>100008</td>\n",
       "      <td>ALABAMA</td>\n",
       "      <td>1</td>\n",
       "      <td>Madison City</td>\n",
       "      <td>836</td>\n",
       "      <td>91.0</td>\n",
       "      <td>4.0</td>\n",
       "      <td>PS</td>\n",
       "      <td>44.0</td>\n",
       "      <td>...</td>\n",
       "      <td>100.0</td>\n",
       "      <td>0.0</td>\n",
       "      <td>67.06</td>\n",
       "      <td>4.38</td>\n",
       "      <td>0.0</td>\n",
       "      <td>6.99</td>\n",
       "      <td>88.63</td>\n",
       "      <td>58.64</td>\n",
       "      <td>8.42</td>\n",
       "      <td>0.0</td>\n",
       "    </tr>\n",
       "    <tr>\n",
       "      <th>4</th>\n",
       "      <td>5</td>\n",
       "      <td>100011</td>\n",
       "      <td>ALABAMA</td>\n",
       "      <td>1</td>\n",
       "      <td>Leeds City</td>\n",
       "      <td>117</td>\n",
       "      <td>72.0</td>\n",
       "      <td>NaN</td>\n",
       "      <td>NaN</td>\n",
       "      <td>NaN</td>\n",
       "      <td>...</td>\n",
       "      <td>100.0</td>\n",
       "      <td>0.0</td>\n",
       "      <td>60.84</td>\n",
       "      <td>3.82</td>\n",
       "      <td>0.0</td>\n",
       "      <td>17.87</td>\n",
       "      <td>78.31</td>\n",
       "      <td>53.11</td>\n",
       "      <td>7.73</td>\n",
       "      <td>0.0</td>\n",
       "    </tr>\n",
       "  </tbody>\n",
       "</table>\n",
       "<p>5 rows × 580 columns</p>\n",
       "</div>"
      ],
      "text/plain": [
       "   Unnamed: 0  leaid11    STNAM  FIPST           leanm11  ALL_COHORT_1112  \\\n",
       "0           1   100005  ALABAMA      1  Albertville City              268   \n",
       "1           2   100006  ALABAMA      1   Marshall County              424   \n",
       "2           3   100007  ALABAMA      1       Hoover City             1042   \n",
       "3           4   100008  ALABAMA      1      Madison City              836   \n",
       "4           5   100011  ALABAMA      1        Leeds City              117   \n",
       "\n",
       "   ALL_RATE_1112  MAM_COHORT_1112 MAM_RATE_1112  MAS_COHORT_1112  \\\n",
       "0           83.0              NaN           NaN              NaN   \n",
       "1           79.0              2.0            PS              1.0   \n",
       "2           91.0              1.0            PS             71.0   \n",
       "3           91.0              4.0            PS             44.0   \n",
       "4           72.0              NaN           NaN              NaN   \n",
       "\n",
       "                ...                pct_TEA_MailOutMailBack_CEN_2010  \\\n",
       "0               ...                                           100.0   \n",
       "1               ...                                           100.0   \n",
       "2               ...                                           100.0   \n",
       "3               ...                                           100.0   \n",
       "4               ...                                           100.0   \n",
       "\n",
       "   pct_TEA_Update_Leave_CEN_2010 pct_Census_Mail_Returns_CEN_2010  \\\n",
       "0                            0.0                            63.14   \n",
       "1                            0.0                            63.27   \n",
       "2                            0.0                            81.77   \n",
       "3                            0.0                            67.06   \n",
       "4                            0.0                            60.84   \n",
       "\n",
       "   pct_Vacant_CEN_2010 pct_Deletes_CEN_2010  pct_Census_UAA_CEN_2010  \\\n",
       "0                 2.48                  0.0                    10.39   \n",
       "1                 3.52                  0.0                    17.02   \n",
       "2                 1.97                  0.0                     2.98   \n",
       "3                 4.38                  0.0                     6.99   \n",
       "4                 3.82                  0.0                    17.87   \n",
       "\n",
       "  pct_Mailback_Count_CEN_2010  pct_FRST_FRMS_CEN_2010  \\\n",
       "0                       87.13                   55.74   \n",
       "1                       79.45                   56.31   \n",
       "2                       95.06                   81.77   \n",
       "3                       88.63                   58.64   \n",
       "4                       78.31                   53.11   \n",
       "\n",
       "  pct_RPLCMNT_FRMS_CEN_2010  pct_BILQ_Mailout_count_CEN_2010  \n",
       "0                      7.40                              0.0  \n",
       "1                      6.96                              0.0  \n",
       "2                      0.00                              0.0  \n",
       "3                      8.42                              0.0  \n",
       "4                      7.73                              0.0  \n",
       "\n",
       "[5 rows x 580 columns]"
      ]
     },
     "execution_count": 3,
     "metadata": {},
     "output_type": "execute_result"
    }
   ],
   "source": [
    "pre_merged.head()"
   ]
  },
  {
   "cell_type": "code",
   "execution_count": 13,
   "metadata": {
    "collapsed": true
   },
   "outputs": [],
   "source": [
    "# df_names = [census, grad_rates, tract_overlap, sd_tract, crime, pre_merged]\n",
    "df_names = [pre_merged, grad_rates, crime]\n",
    "for i in df_names:\n",
    "    i.rename(columns= {col: col.lower() for col in i.columns}, inplace=True)"
   ]
  },
  {
   "cell_type": "code",
   "execution_count": null,
   "metadata": {},
   "outputs": [],
   "source": [
    "# grad_rates = pd.read_csv('./Unmerged Data/Graduation_Rates.csv', encoding='latin-1')\n",
    "# df_names = [grad_rates]\n",
    "# for i in df_names:\n",
    "#     i.rename(columns= {col: col.lower() for col in i.columns}, inplace=True)"
   ]
  },
  {
   "cell_type": "code",
   "execution_count": null,
   "metadata": {},
   "outputs": [],
   "source": [
    "# does the indian school have a casino\n",
    "# make it a classification problem ... use kmean to group them or knn\n"
   ]
  },
  {
   "cell_type": "markdown",
   "metadata": {},
   "source": [
    "### Grad_Rates"
   ]
  },
  {
   "cell_type": "code",
   "execution_count": 8,
   "metadata": {},
   "outputs": [
    {
     "data": {
      "text/plain": [
       "10-14       8\n",
       "11-19      10\n",
       "15-19      12\n",
       "20-24      16\n",
       "20-29      22\n",
       "21-39      32\n",
       "25-29      17\n",
       "30-34      15\n",
       "30-39      23\n",
       "35-39      13\n",
       "40-44      18\n",
       "40-49      27\n",
       "40-59      53\n",
       "45-49      25\n",
       "50-54      20\n",
       "50-59      48\n",
       "55-59      41\n",
       "6-9        17\n",
       "60-64      63\n",
       "60-69      70\n",
       "60-79     127\n",
       "65-69     114\n",
       "70-74     176\n",
       "70-79     179\n",
       "75-79     298\n",
       "80-84     526\n",
       "80-89     467\n",
       "85-89     739\n",
       "90-94    1039\n",
       "GE50      572\n",
       "GE80      861\n",
       "GE90      963\n",
       "GE95      742\n",
       "GE99       48\n",
       "LE1         3\n",
       "LE10       12\n",
       "LE20       39\n",
       "LE5        19\n",
       "LT50       61\n",
       "PS        197\n",
       "Name: all_rate_1112, dtype: int64"
      ]
     },
     "execution_count": 8,
     "metadata": {},
     "output_type": "execute_result"
    }
   ],
   "source": [
    "grad_rates[grad_rates['all_rate_1112'].str.contains('[A-z-]')].all_rate_1112.value_counts().sort_index()\n",
    "# Greater than or equal to = ≥ = GE\n",
    "#  Less than or equal to = ≤ = LE\n",
    "#  Greater than = > = GT\n",
    "#  Less than = < = LT\n",
    "#  Data suppressed to protect student privacy = PS\n",
    "\n",
    "# PS == take average of the schools in the state or figure corr based on population"
   ]
  },
  {
   "cell_type": "code",
   "execution_count": null,
   "metadata": {},
   "outputs": [],
   "source": [
    "def rate_cleaner(i):\n",
    "    try:\n",
    "        left , right = i.split('-')\n",
    "        return round((int(left)+int(right))/2)\n",
    "        \n",
    "    except:\n",
    "        if pd.isnull(i):\n",
    "            return 'none'\n",
    "        \n",
    "        if i[0] == 'L':\n",
    "            return round(int(i[2:])/2)\n",
    "            \n",
    "        if i[0] == 'G':\n",
    "            return round((int(i[2:]) + 100) / 2)\n",
    "\n",
    "        if i == 'PS':\n",
    "            return 'PS'\n",
    "        \n",
    "        if i.isnumeric():\n",
    "            return int(i)"
   ]
  },
  {
   "cell_type": "code",
   "execution_count": null,
   "metadata": {},
   "outputs": [],
   "source": [
    "# clean all rate columns\n",
    "\n",
    "list_columns = [i for i in grad_rates.columns if 'rate' in i]\n",
    "for i in list_columns:\n",
    "    grad_rates[i] = grad_rates[i].apply(rate_cleaner)"
   ]
  },
  {
   "cell_type": "code",
   "execution_count": null,
   "metadata": {},
   "outputs": [],
   "source": [
    "def all_rate_PS_removal(i):\n",
    "    if i == 'PS':\n",
    "        return np.nan\n",
    "    else:\n",
    "        return i\n",
    "\n",
    "grad_rates['all_rate_1112'] = grad_rates['all_rate_1112'].apply(all_rate_PS_removal)"
   ]
  },
  {
   "cell_type": "code",
   "execution_count": null,
   "metadata": {},
   "outputs": [],
   "source": [
    "grad_rates.info()"
   ]
  },
  {
   "cell_type": "code",
   "execution_count": null,
   "metadata": {},
   "outputs": [],
   "source": []
  },
  {
   "cell_type": "markdown",
   "metadata": {},
   "source": [
    "# Keep this shit as learning"
   ]
  },
  {
   "cell_type": "code",
   "execution_count": null,
   "metadata": {},
   "outputs": [],
   "source": [
    "# PS feature eng --> take the average of all PS values for that state\n",
    "# dict of state to average value --> group by state then whatever we want to grab\n",
    "# if rate = ps uses state as index to look up dict and replace -> lambda x: dict[x.stnam] if x.rate = ps else x.rate\n",
    "# can only do for all rates column"
   ]
  },
  {
   "cell_type": "code",
   "execution_count": null,
   "metadata": {},
   "outputs": [],
   "source": [
    "grad_rates.head(2)"
   ]
  },
  {
   "cell_type": "code",
   "execution_count": null,
   "metadata": {},
   "outputs": [],
   "source": [
    "grad_rates['all_rate_1112'].isnull().value_counts()"
   ]
  },
  {
   "cell_type": "code",
   "execution_count": null,
   "metadata": {},
   "outputs": [],
   "source": [
    "mean_all_rate_df = grad_rates.loc[grad_rates['all_rate_1112']!='PS',:]\n",
    "mean_all_rate_df['all_rate_1112'] = mean_all_rate_df['all_rate_1112'].astype(float)\n",
    "state_rate_avg_dict = dict(mean_all_rate_df.groupby('stnam')['all_rate_1112'].mean())\n",
    "state_rate_avg_dict"
   ]
  },
  {
   "cell_type": "code",
   "execution_count": null,
   "metadata": {},
   "outputs": [],
   "source": [
    "state_rate_avg_dict['WISCONSIN']"
   ]
  },
  {
   "cell_type": "code",
   "execution_count": null,
   "metadata": {},
   "outputs": [],
   "source": [
    "# take the average and divide by chort size to figure out grad rate per person\n",
    "# then go and and multiple by the PS chort size"
   ]
  },
  {
   "cell_type": "markdown",
   "metadata": {},
   "source": [
    "#### Crime"
   ]
  },
  {
   "cell_type": "code",
   "execution_count": 11,
   "metadata": {},
   "outputs": [
    {
     "data": {
      "text/html": [
       "<div>\n",
       "<style>\n",
       "    .dataframe thead tr:only-child th {\n",
       "        text-align: right;\n",
       "    }\n",
       "\n",
       "    .dataframe thead th {\n",
       "        text-align: left;\n",
       "    }\n",
       "\n",
       "    .dataframe tbody tr th {\n",
       "        vertical-align: top;\n",
       "    }\n",
       "</style>\n",
       "<table border=\"1\" class=\"dataframe\">\n",
       "  <thead>\n",
       "    <tr style=\"text-align: right;\">\n",
       "      <th></th>\n",
       "      <th>State</th>\n",
       "      <th>Population</th>\n",
       "      <th>Violent crime total</th>\n",
       "      <th>Murder and nonnegligent Manslaughter</th>\n",
       "      <th>Legacy rape</th>\n",
       "      <th>Robbery</th>\n",
       "      <th>Aggravated assault</th>\n",
       "      <th>Property crime total</th>\n",
       "      <th>Burglary</th>\n",
       "      <th>Larceny-theft</th>\n",
       "      <th>Motor vehicle theft</th>\n",
       "      <th>Violent Crime rate</th>\n",
       "      <th>Murder and nonnegligent manslaughter rate</th>\n",
       "      <th>Legacy rape rate</th>\n",
       "      <th>Robbery rate</th>\n",
       "      <th>Aggravated assault rate</th>\n",
       "      <th>Property crime rate</th>\n",
       "      <th>Burglary rate</th>\n",
       "      <th>Larceny-theft rate</th>\n",
       "      <th>Motor vehicle theft rate</th>\n",
       "    </tr>\n",
       "  </thead>\n",
       "  <tbody>\n",
       "    <tr>\n",
       "      <th>0</th>\n",
       "      <td>Alabama</td>\n",
       "      <td>4785401</td>\n",
       "      <td>18363</td>\n",
       "      <td>275</td>\n",
       "      <td>1355</td>\n",
       "      <td>4864</td>\n",
       "      <td>11869</td>\n",
       "      <td>168828</td>\n",
       "      <td>42484</td>\n",
       "      <td>115564</td>\n",
       "      <td>10780</td>\n",
       "      <td>383.7</td>\n",
       "      <td>5.7</td>\n",
       "      <td>28.3</td>\n",
       "      <td>101.6</td>\n",
       "      <td>248.0</td>\n",
       "      <td>3528.0</td>\n",
       "      <td>887.8</td>\n",
       "      <td>2414.9</td>\n",
       "      <td>225.3</td>\n",
       "    </tr>\n",
       "    <tr>\n",
       "      <th>1</th>\n",
       "      <td>Alaska</td>\n",
       "      <td>714146</td>\n",
       "      <td>4537</td>\n",
       "      <td>31</td>\n",
       "      <td>533</td>\n",
       "      <td>594</td>\n",
       "      <td>3379</td>\n",
       "      <td>20259</td>\n",
       "      <td>3105</td>\n",
       "      <td>15535</td>\n",
       "      <td>1619</td>\n",
       "      <td>635.3</td>\n",
       "      <td>4.3</td>\n",
       "      <td>74.6</td>\n",
       "      <td>83.2</td>\n",
       "      <td>473.2</td>\n",
       "      <td>2836.8</td>\n",
       "      <td>434.8</td>\n",
       "      <td>2175.3</td>\n",
       "      <td>226.7</td>\n",
       "    </tr>\n",
       "    <tr>\n",
       "      <th>2</th>\n",
       "      <td>Arizona</td>\n",
       "      <td>6413158</td>\n",
       "      <td>26528</td>\n",
       "      <td>408</td>\n",
       "      <td>2191</td>\n",
       "      <td>6953</td>\n",
       "      <td>16976</td>\n",
       "      <td>226802</td>\n",
       "      <td>50932</td>\n",
       "      <td>154137</td>\n",
       "      <td>21733</td>\n",
       "      <td>413.6</td>\n",
       "      <td>6.4</td>\n",
       "      <td>34.2</td>\n",
       "      <td>108.4</td>\n",
       "      <td>264.7</td>\n",
       "      <td>3536.5</td>\n",
       "      <td>794.2</td>\n",
       "      <td>2403.4</td>\n",
       "      <td>338.9</td>\n",
       "    </tr>\n",
       "    <tr>\n",
       "      <th>3</th>\n",
       "      <td>Arkansas</td>\n",
       "      <td>2921588</td>\n",
       "      <td>14711</td>\n",
       "      <td>134</td>\n",
       "      <td>1321</td>\n",
       "      <td>2369</td>\n",
       "      <td>10887</td>\n",
       "      <td>103820</td>\n",
       "      <td>32463</td>\n",
       "      <td>65796</td>\n",
       "      <td>5561</td>\n",
       "      <td>503.5</td>\n",
       "      <td>4.6</td>\n",
       "      <td>45.2</td>\n",
       "      <td>81.1</td>\n",
       "      <td>372.6</td>\n",
       "      <td>3553.5</td>\n",
       "      <td>1111.1</td>\n",
       "      <td>2252.1</td>\n",
       "      <td>190.3</td>\n",
       "    </tr>\n",
       "    <tr>\n",
       "      <th>4</th>\n",
       "      <td>California</td>\n",
       "      <td>37338198</td>\n",
       "      <td>164133</td>\n",
       "      <td>1809</td>\n",
       "      <td>8331</td>\n",
       "      <td>58116</td>\n",
       "      <td>95877</td>\n",
       "      <td>981939</td>\n",
       "      <td>228857</td>\n",
       "      <td>600558</td>\n",
       "      <td>152524</td>\n",
       "      <td>439.6</td>\n",
       "      <td>4.8</td>\n",
       "      <td>22.3</td>\n",
       "      <td>155.6</td>\n",
       "      <td>256.8</td>\n",
       "      <td>2629.9</td>\n",
       "      <td>612.9</td>\n",
       "      <td>1608.4</td>\n",
       "      <td>408.5</td>\n",
       "    </tr>\n",
       "  </tbody>\n",
       "</table>\n",
       "</div>"
      ],
      "text/plain": [
       "        State  Population  Violent crime total  \\\n",
       "0     Alabama     4785401                18363   \n",
       "1      Alaska      714146                 4537   \n",
       "2     Arizona     6413158                26528   \n",
       "3    Arkansas     2921588                14711   \n",
       "4  California    37338198               164133   \n",
       "\n",
       "   Murder and nonnegligent Manslaughter  Legacy rape  Robbery  \\\n",
       "0                                   275         1355     4864   \n",
       "1                                    31          533      594   \n",
       "2                                   408         2191     6953   \n",
       "3                                   134         1321     2369   \n",
       "4                                  1809         8331    58116   \n",
       "\n",
       "   Aggravated assault  Property crime total  Burglary  Larceny-theft  \\\n",
       "0               11869                168828     42484         115564   \n",
       "1                3379                 20259      3105          15535   \n",
       "2               16976                226802     50932         154137   \n",
       "3               10887                103820     32463          65796   \n",
       "4               95877                981939    228857         600558   \n",
       "\n",
       "   Motor vehicle theft  Violent Crime rate  \\\n",
       "0                10780               383.7   \n",
       "1                 1619               635.3   \n",
       "2                21733               413.6   \n",
       "3                 5561               503.5   \n",
       "4               152524               439.6   \n",
       "\n",
       "   Murder and nonnegligent manslaughter rate  Legacy rape rate  Robbery rate  \\\n",
       "0                                        5.7              28.3         101.6   \n",
       "1                                        4.3              74.6          83.2   \n",
       "2                                        6.4              34.2         108.4   \n",
       "3                                        4.6              45.2          81.1   \n",
       "4                                        4.8              22.3         155.6   \n",
       "\n",
       "   Aggravated assault rate  Property crime rate  Burglary rate  \\\n",
       "0                    248.0               3528.0          887.8   \n",
       "1                    473.2               2836.8          434.8   \n",
       "2                    264.7               3536.5          794.2   \n",
       "3                    372.6               3553.5         1111.1   \n",
       "4                    256.8               2629.9          612.9   \n",
       "\n",
       "   Larceny-theft rate  Motor vehicle theft rate  \n",
       "0              2414.9                     225.3  \n",
       "1              2175.3                     226.7  \n",
       "2              2403.4                     338.9  \n",
       "3              2252.1                     190.3  \n",
       "4              1608.4                     408.5  "
      ]
     },
     "execution_count": 11,
     "metadata": {},
     "output_type": "execute_result"
    }
   ],
   "source": [
    "crime.head()"
   ]
  },
  {
   "cell_type": "code",
   "execution_count": 14,
   "metadata": {},
   "outputs": [
    {
     "data": {
      "text/plain": [
       "<seaborn.axisgrid.PairGrid at 0x1456d386470>"
      ]
     },
     "execution_count": 14,
     "metadata": {},
     "output_type": "execute_result"
    },
    {
     "data": {
      "image/png": "[encoded data removed]",
      "text/plain": [
       "<matplotlib.figure.Figure at 0x1456d386400>"
      ]
     },
     "metadata": {},
     "output_type": "display_data"
    }
   ],
   "source": [
    "sns.pairplot(crime[['state', 'population', 'violent crime total', 'property crime total', 'violent crime rate', 'property crime rate']])"
   ]
  },
  {
   "cell_type": "code",
   "execution_count": null,
   "metadata": {
    "collapsed": true
   },
   "outputs": [],
   "source": []
  },
  {
   "cell_type": "code",
   "execution_count": null,
   "metadata": {},
   "outputs": [],
   "source": []
  },
  {
   "cell_type": "markdown",
   "metadata": {},
   "source": [
    "### Pre_Merged"
   ]
  },
  {
   "cell_type": "code",
   "execution_count": null,
   "metadata": {},
   "outputs": [],
   "source": [
    "pre_merged.columns[7:24]"
   ]
  },
  {
   "cell_type": "code",
   "execution_count": null,
   "metadata": {},
   "outputs": [],
   "source": [
    "pre_merged.info(verbose=True)"
   ]
  },
  {
   "cell_type": "code",
   "execution_count": 4,
   "metadata": {},
   "outputs": [],
   "source": [
    "def rate_cleaner2(i):\n",
    "    try:\n",
    "        left , right = i.split('-')\n",
    "        return round((int(left)+int(right))/2)\n",
    "        \n",
    "    except:\n",
    "        if pd.isnull(i):\n",
    "            return np.nan\n",
    "        \n",
    "        if i[0] == 'L':\n",
    "            return round(int(i[2:])/2)\n",
    "            \n",
    "        if i[0] == 'G':\n",
    "            return round((int(i[2:]) + 100) / 2)\n",
    "\n",
    "        if i == 'PS':\n",
    "            return np.nan\n",
    "        \n",
    "        if i.isnumeric():\n",
    "            return int(i)"
   ]
  },
  {
   "cell_type": "code",
   "execution_count": 5,
   "metadata": {},
   "outputs": [],
   "source": [
    "list_columns = [i for i in pre_merged.columns[7:24] if 'rate' in i]\n",
    "for i in list_columns:\n",
    "    pre_merged[i] = pre_merged[i].apply(rate_cleaner2)"
   ]
  },
  {
   "cell_type": "markdown",
   "metadata": {},
   "source": [
    "#### Lasso"
   ]
  },
  {
   "cell_type": "code",
   "execution_count": 6,
   "metadata": {},
   "outputs": [],
   "source": [
    "from sklearn.model_selection import train_test_split\n",
    "from sklearn.preprocessing import StandardScaler\n",
    "from sklearn.linear_model import Lasso\n",
    "from sklearn.ensemble import RandomForestRegressor"
   ]
  },
  {
   "cell_type": "code",
   "execution_count": 7,
   "metadata": {},
   "outputs": [],
   "source": [
    "# we know the graduation rates so figure out what the most import features are"
   ]
  },
  {
   "cell_type": "code",
   "execution_count": 8,
   "metadata": {},
   "outputs": [
    {
     "data": {
      "text/plain": [
       "all_rate_1112                       1.000000\n",
       "mwh_rate_1112                       0.809466\n",
       "ecd_rate_1112                       0.657595\n",
       "mbl_rate_1112                       0.645466\n",
       "cwd_rate_1112                       0.643522\n",
       "mhi_rate_1112                       0.604659\n",
       "mam_rate_1112                       0.558463\n",
       "mtr_rate_1112                       0.395234\n",
       "mas_rate_1112                       0.381827\n",
       "pct_census_mail_returns_cen_2010    0.334847\n",
       "pct_frst_frms_cen_2010              0.334425\n",
       "nh_white_alone_cen_2010             0.309347\n",
       "nh_white_alone_acs_08_12            0.308692\n",
       "frst_frms_cen_2010                  0.294008\n",
       "percentage                          0.293409\n",
       "college_acs_08_12                   0.290230\n",
       "pct_tot_occp_units_acs_08_12        0.287769\n",
       "pct_mailback_count_cen_2010         0.287016\n",
       "census_mail_returns_cen_2010        0.286169\n",
       "college_acsmoe_08_12                0.279209\n",
       "mrdcple_fmly_hhd_acs_08_12          0.275341\n",
       "mrdcple_fmly_hhd_cen_2010           0.274859\n",
       "pct_tot_occp_units_cen_2010         0.269803\n",
       "civ_emp_45_64_acs_08_12             0.267998\n",
       "civ_emp_16plus_acs_08_12            0.265200\n",
       "civ_labor_45_64_acs_08_12           0.263823\n",
       "tea_mail_out_mail_back_cen_2010     0.261504\n",
       "valid_mailback_count_cen_2010       0.255195\n",
       "pct_tea_mailoutmailback_cen_2010    0.254441\n",
       "civ_labor_16plus_acs_08_12          0.251850\n",
       "                                      ...   \n",
       "nh_blk_alone_acs_08_12              0.159333\n",
       "nh_blk_alone_cen_2010               0.161062\n",
       "pct_female_no_hb_cen_2010           0.167571\n",
       "mam_cohort_1112                     0.171493\n",
       "pct_pub_asst_inc_acs_08_12          0.182892\n",
       "nh_aian_alone_acs_08_12             0.184262\n",
       "land_area                           0.185154\n",
       "pct_mobile_homes_acs_08_12          0.189080\n",
       "pct_not_mrdcple_hhd_acs_08_12       0.189392\n",
       "pct_nh_blk_alone_acs_08_12          0.192340\n",
       "aian_land                           0.193544\n",
       "nh_aian_alone_cen_2010              0.193970\n",
       "pct_nh_blk_alone_cen_2010           0.194540\n",
       "mbl_cohort_1112                     0.195803\n",
       "pct_not_hs_grad_acs_08_12           0.197206\n",
       "pct_rural_pop_cen_2010              0.197741\n",
       "pct_deletes_cen_2010                0.201519\n",
       "pct_not_mrdcple_hhd_cen_2010        0.202745\n",
       "pct_nh_aian_alone_cen_2010          0.217307\n",
       "pct_nh_aian_alone_acs_08_12         0.218008\n",
       "no_plumb_acs_08_12                  0.220855\n",
       "pct_tea_update_leave_cen_2010       0.254441\n",
       "pct_prs_blw_pov_lev_acs_08_12       0.263414\n",
       "pct_vacant_units_cen_2010           0.269803\n",
       "low_response_score                  0.281954\n",
       "pct_vacant_units_acs_08_12          0.287769\n",
       "pct_vacant_cen_2010                 0.294634\n",
       "pct_no_plumb_acs_08_12              0.297703\n",
       "flag                                     NaN\n",
       "diff_hu_1yr_ago_acsmoe_08_12             NaN\n",
       "Name: all_rate_1112, Length: 567, dtype: float64"
      ]
     },
     "execution_count": 8,
     "metadata": {},
     "output_type": "execute_result"
    }
   ],
   "source": [
    "abs(pre_merged.corr()['all_rate_1112'].sort_values(ascending=False))"
   ]
  },
  {
   "cell_type": "code",
   "execution_count": 9,
   "metadata": {},
   "outputs": [],
   "source": [
    "# Ignore this stuff -- it was a failed attempt\n",
    "\n",
    "# X = pre_merged._get_numeric_data().drop(['all_rate_1112', 'unnamed: 0'], axis=1)\n",
    "# y = pre_merged['all_rate_1112']\n",
    "# X.fillna(0, inplace=True)\n",
    "# y.fillna(0, inplace=True)"
   ]
  },
  {
   "cell_type": "code",
   "execution_count": 10,
   "metadata": {},
   "outputs": [],
   "source": [
    "# ss = StandardScaler()\n",
    "# X_ss = ss.fit_transform(X)\n",
    "\n",
    "# lasso = Lasso()\n",
    "# lasso.fit(X_ss, y)"
   ]
  },
  {
   "cell_type": "code",
   "execution_count": 11,
   "metadata": {},
   "outputs": [],
   "source": [
    "# coef_df = pd.DataFrame(abs(lasso.coef_), columns=['coef'])\n",
    "# coef_df['features'] = pre_merged._get_numeric_data().drop(['all_rate_1112', 'unnamed: 0'], axis=1).columns\n",
    "# coef_df.sort_values('coef', ascending=False).head(14)"
   ]
  },
  {
   "cell_type": "code",
   "execution_count": 12,
   "metadata": {},
   "outputs": [],
   "source": [
    "# [i for i in pre_merged.columns if i not in pre_merged._get_numeric_data().columns]"
   ]
  },
  {
   "cell_type": "code",
   "execution_count": 13,
   "metadata": {},
   "outputs": [],
   "source": [
    "def money_landurer(cell):    \n",
    "    if pd.isnull(cell):\n",
    "        return int('0')\n",
    "    else:\n",
    "        return int(cell.replace(',' , '').strip('$'))"
   ]
  },
  {
   "cell_type": "code",
   "execution_count": 14,
   "metadata": {},
   "outputs": [],
   "source": [
    "money_col = ['med_hhd_inc_acs_08_12', 'med_hhd_inc_acsmoe_08_12', 'aggregate_hh_inc_acs_08_12', 'aggregate_hh_inc_acsmoe_08_12', 'med_house_value_acs_08_12',\n",
    "     'med_house_value_acsmoe_08_12', 'aggr_house_value_acs_08_12', 'aggr_house_value_acsmoe_08_12']\n",
    "for i in money_col:\n",
    "    pre_merged[i] = pre_merged[i].apply(money_cleaner)"
   ]
  },
  {
   "cell_type": "code",
   "execution_count": 15,
   "metadata": {},
   "outputs": [
    {
     "data": {
      "text/plain": [
       "['stnam', 'leanm11', 'school.district', 'state_name', 'county_name']"
      ]
     },
     "execution_count": 15,
     "metadata": {},
     "output_type": "execute_result"
    }
   ],
   "source": [
    "# check to make sure money cleaner is working\n",
    "[i for i in pre_merged.columns if i not in pre_merged._get_numeric_data().columns]"
   ]
  },
  {
   "cell_type": "code",
   "execution_count": 16,
   "metadata": {},
   "outputs": [],
   "source": [
    "X = pre_merged._get_numeric_data().drop(['all_rate_1112', 'unnamed: 0'], axis=1)\n",
    "y = pre_merged['all_rate_1112']\n",
    "X.fillna(0, inplace=True)\n",
    "y.fillna(0, inplace=True)"
   ]
  },
  {
   "cell_type": "code",
   "execution_count": 17,
   "metadata": {},
   "outputs": [
    {
     "data": {
      "text/plain": [
       "Lasso(alpha=1.0, copy_X=True, fit_intercept=True, max_iter=1000,\n",
       "   normalize=False, positive=False, precompute=False, random_state=None,\n",
       "   selection='cyclic', tol=0.0001, warm_start=False)"
      ]
     },
     "execution_count": 17,
     "metadata": {},
     "output_type": "execute_result"
    }
   ],
   "source": [
    "ss = StandardScaler()\n",
    "X_ss = ss.fit_transform(X)\n",
    "\n",
    "lasso = Lasso()\n",
    "lasso.fit(X_ss, y)"
   ]
  },
  {
   "cell_type": "code",
   "execution_count": 18,
   "metadata": {},
   "outputs": [
    {
     "data": {
      "text/html": [
       "<div>\n",
       "<style>\n",
       "    .dataframe thead tr:only-child th {\n",
       "        text-align: right;\n",
       "    }\n",
       "\n",
       "    .dataframe thead th {\n",
       "        text-align: left;\n",
       "    }\n",
       "\n",
       "    .dataframe tbody tr th {\n",
       "        vertical-align: top;\n",
       "    }\n",
       "</style>\n",
       "<table border=\"1\" class=\"dataframe\">\n",
       "  <thead>\n",
       "    <tr style=\"text-align: right;\">\n",
       "      <th></th>\n",
       "      <th>coef</th>\n",
       "      <th>features</th>\n",
       "    </tr>\n",
       "  </thead>\n",
       "  <tbody>\n",
       "    <tr>\n",
       "      <th>14</th>\n",
       "      <td>7.447456</td>\n",
       "      <td>mwh_rate_1112</td>\n",
       "    </tr>\n",
       "    <tr>\n",
       "      <th>18</th>\n",
       "      <td>4.056410</td>\n",
       "      <td>ecd_rate_1112</td>\n",
       "    </tr>\n",
       "    <tr>\n",
       "      <th>16</th>\n",
       "      <td>2.099762</td>\n",
       "      <td>cwd_rate_1112</td>\n",
       "    </tr>\n",
       "    <tr>\n",
       "      <th>20</th>\n",
       "      <td>0.446531</td>\n",
       "      <td>percentage</td>\n",
       "    </tr>\n",
       "    <tr>\n",
       "      <th>266</th>\n",
       "      <td>0.426024</td>\n",
       "      <td>aggregate_hh_inc_acs_08_12</td>\n",
       "    </tr>\n",
       "    <tr>\n",
       "      <th>538</th>\n",
       "      <td>0.158891</td>\n",
       "      <td>pct_vacant_units_cen_2010</td>\n",
       "    </tr>\n",
       "    <tr>\n",
       "      <th>384</th>\n",
       "      <td>0.000000</td>\n",
       "      <td>pct_age5p_german_acs_08_12</td>\n",
       "    </tr>\n",
       "    <tr>\n",
       "      <th>380</th>\n",
       "      <td>0.000000</td>\n",
       "      <td>pct_age5p_italian_acs_08_12</td>\n",
       "    </tr>\n",
       "    <tr>\n",
       "      <th>381</th>\n",
       "      <td>0.000000</td>\n",
       "      <td>pct_age5p_italian_acsmoe_08_12</td>\n",
       "    </tr>\n",
       "    <tr>\n",
       "      <th>382</th>\n",
       "      <td>0.000000</td>\n",
       "      <td>pct_age5p_portugues_acs_08_12</td>\n",
       "    </tr>\n",
       "    <tr>\n",
       "      <th>383</th>\n",
       "      <td>0.000000</td>\n",
       "      <td>pct_age5p_portugues_acsmoe_08_12</td>\n",
       "    </tr>\n",
       "    <tr>\n",
       "      <th>385</th>\n",
       "      <td>0.000000</td>\n",
       "      <td>pct_age5p_german_acsmoe_08_12</td>\n",
       "    </tr>\n",
       "    <tr>\n",
       "      <th>378</th>\n",
       "      <td>0.000000</td>\n",
       "      <td>pct_age5p_frcreole_acs_08_12</td>\n",
       "    </tr>\n",
       "    <tr>\n",
       "      <th>386</th>\n",
       "      <td>0.000000</td>\n",
       "      <td>pct_age5p_yiddish_acs_08_12</td>\n",
       "    </tr>\n",
       "  </tbody>\n",
       "</table>\n",
       "</div>"
      ],
      "text/plain": [
       "         coef                          features\n",
       "14   7.447456                     mwh_rate_1112\n",
       "18   4.056410                     ecd_rate_1112\n",
       "16   2.099762                     cwd_rate_1112\n",
       "20   0.446531                        percentage\n",
       "266  0.426024        aggregate_hh_inc_acs_08_12\n",
       "538  0.158891         pct_vacant_units_cen_2010\n",
       "384  0.000000        pct_age5p_german_acs_08_12\n",
       "380  0.000000       pct_age5p_italian_acs_08_12\n",
       "381  0.000000    pct_age5p_italian_acsmoe_08_12\n",
       "382  0.000000     pct_age5p_portugues_acs_08_12\n",
       "383  0.000000  pct_age5p_portugues_acsmoe_08_12\n",
       "385  0.000000     pct_age5p_german_acsmoe_08_12\n",
       "378  0.000000      pct_age5p_frcreole_acs_08_12\n",
       "386  0.000000       pct_age5p_yiddish_acs_08_12"
      ]
     },
     "execution_count": 18,
     "metadata": {},
     "output_type": "execute_result"
    }
   ],
   "source": [
    "coef_df = pd.DataFrame(abs(lasso.coef_), columns=['coef'])\n",
    "coef_df['features'] = pre_merged._get_numeric_data().drop(['all_rate_1112', 'unnamed: 0'], axis=1).columns\n",
    "coef_df.sort_values('coef', ascending=False).head(14)"
   ]
  },
  {
   "cell_type": "code",
   "execution_count": null,
   "metadata": {},
   "outputs": [],
   "source": [
    "lasso.score()"
   ]
  },
  {
   "cell_type": "code",
   "execution_count": null,
   "metadata": {},
   "outputs": [],
   "source": []
  },
  {
   "cell_type": "code",
   "execution_count": 19,
   "metadata": {},
   "outputs": [],
   "source": [
    "# input and predict based on thoses inputs what would the graduation rate be"
   ]
  },
  {
   "cell_type": "markdown",
   "metadata": {},
   "source": [
    "### Random Forest"
   ]
  },
  {
   "cell_type": "code",
   "execution_count": 20,
   "metadata": {},
   "outputs": [],
   "source": [
    "from sklearn.ensemble import RandomForestRegressor"
   ]
  },
  {
   "cell_type": "code",
   "execution_count": 21,
   "metadata": {},
   "outputs": [
    {
     "data": {
      "text/plain": [
       "RandomForestRegressor(bootstrap=True, criterion='mse', max_depth=4,\n",
       "           max_features='auto', max_leaf_nodes=None,\n",
       "           min_impurity_decrease=0.0, min_impurity_split=None,\n",
       "           min_samples_leaf=1, min_samples_split=2,\n",
       "           min_weight_fraction_leaf=0.0, n_estimators=6, n_jobs=1,\n",
       "           oob_score=False, random_state=None, verbose=0, warm_start=False)"
      ]
     },
     "execution_count": 21,
     "metadata": {},
     "output_type": "execute_result"
    }
   ],
   "source": [
    "rf = RandomForestRegressor(n_estimators=6, max_depth=4)\n",
    "rf.fit(X, y)"
   ]
  },
  {
   "cell_type": "code",
   "execution_count": 22,
   "metadata": {},
   "outputs": [],
   "source": [
    "rf_features_df = pd.DataFrame()\n",
    "rf_features_df['importances'] = rf.feature_importances_\n",
    "rf_features_df['feature'] = X.columns"
   ]
  },
  {
   "cell_type": "code",
   "execution_count": 23,
   "metadata": {},
   "outputs": [
    {
     "data": {
      "text/html": [
       "<div>\n",
       "<style>\n",
       "    .dataframe thead tr:only-child th {\n",
       "        text-align: right;\n",
       "    }\n",
       "\n",
       "    .dataframe thead th {\n",
       "        text-align: left;\n",
       "    }\n",
       "\n",
       "    .dataframe tbody tr th {\n",
       "        vertical-align: top;\n",
       "    }\n",
       "</style>\n",
       "<table border=\"1\" class=\"dataframe\">\n",
       "  <thead>\n",
       "    <tr style=\"text-align: right;\">\n",
       "      <th></th>\n",
       "      <th>importances</th>\n",
       "      <th>feature</th>\n",
       "    </tr>\n",
       "  </thead>\n",
       "  <tbody>\n",
       "    <tr>\n",
       "      <th>2</th>\n",
       "      <td>0.603564</td>\n",
       "      <td>all_cohort_1112</td>\n",
       "    </tr>\n",
       "    <tr>\n",
       "      <th>14</th>\n",
       "      <td>0.340956</td>\n",
       "      <td>mwh_rate_1112</td>\n",
       "    </tr>\n",
       "    <tr>\n",
       "      <th>18</th>\n",
       "      <td>0.047351</td>\n",
       "      <td>ecd_rate_1112</td>\n",
       "    </tr>\n",
       "    <tr>\n",
       "      <th>295</th>\n",
       "      <td>0.002695</td>\n",
       "      <td>no_plumb_acs_08_12</td>\n",
       "    </tr>\n",
       "    <tr>\n",
       "      <th>3</th>\n",
       "      <td>0.001730</td>\n",
       "      <td>mam_cohort_1112</td>\n",
       "    </tr>\n",
       "    <tr>\n",
       "      <th>520</th>\n",
       "      <td>0.000770</td>\n",
       "      <td>pct_sngl_prns_hhd_acs_08_12</td>\n",
       "    </tr>\n",
       "    <tr>\n",
       "      <th>432</th>\n",
       "      <td>0.000571</td>\n",
       "      <td>pct_age5p_othasian_acs_08_12</td>\n",
       "    </tr>\n",
       "    <tr>\n",
       "      <th>350</th>\n",
       "      <td>0.000447</td>\n",
       "      <td>pct_nh_white_alone_cen_2010</td>\n",
       "    </tr>\n",
       "    <tr>\n",
       "      <th>512</th>\n",
       "      <td>0.000408</td>\n",
       "      <td>pct_not_mrdcple_hhd_acsmoe_08_12</td>\n",
       "    </tr>\n",
       "    <tr>\n",
       "      <th>15</th>\n",
       "      <td>0.000405</td>\n",
       "      <td>cwd_cohort_1112</td>\n",
       "    </tr>\n",
       "    <tr>\n",
       "      <th>132</th>\n",
       "      <td>0.000398</td>\n",
       "      <td>age5p_othindic_acsmoe_08_12</td>\n",
       "    </tr>\n",
       "    <tr>\n",
       "      <th>489</th>\n",
       "      <td>0.000176</td>\n",
       "      <td>pct_born_foreign_acsmoe_08_12</td>\n",
       "    </tr>\n",
       "    <tr>\n",
       "      <th>540</th>\n",
       "      <td>0.000166</td>\n",
       "      <td>pct_vacant_units_acsmoe_08_12</td>\n",
       "    </tr>\n",
       "    <tr>\n",
       "      <th>517</th>\n",
       "      <td>0.000156</td>\n",
       "      <td>pct_nonfamily_hhd_acs_08_12</td>\n",
       "    </tr>\n",
       "    <tr>\n",
       "      <th>319</th>\n",
       "      <td>0.000151</td>\n",
       "      <td>pct_rural_pop_cen_2010</td>\n",
       "    </tr>\n",
       "    <tr>\n",
       "      <th>13</th>\n",
       "      <td>0.000057</td>\n",
       "      <td>mwh_cohort_1112</td>\n",
       "    </tr>\n",
       "    <tr>\n",
       "      <th>387</th>\n",
       "      <td>0.000000</td>\n",
       "      <td>pct_age5p_yiddish_acsmoe_08_12</td>\n",
       "    </tr>\n",
       "    <tr>\n",
       "      <th>380</th>\n",
       "      <td>0.000000</td>\n",
       "      <td>pct_age5p_italian_acs_08_12</td>\n",
       "    </tr>\n",
       "    <tr>\n",
       "      <th>390</th>\n",
       "      <td>0.000000</td>\n",
       "      <td>pct_age5p_scandinav_acs_08_12</td>\n",
       "    </tr>\n",
       "  </tbody>\n",
       "</table>\n",
       "</div>"
      ],
      "text/plain": [
       "     importances                           feature\n",
       "2       0.603564                   all_cohort_1112\n",
       "14      0.340956                     mwh_rate_1112\n",
       "18      0.047351                     ecd_rate_1112\n",
       "295     0.002695                no_plumb_acs_08_12\n",
       "3       0.001730                   mam_cohort_1112\n",
       "520     0.000770       pct_sngl_prns_hhd_acs_08_12\n",
       "432     0.000571      pct_age5p_othasian_acs_08_12\n",
       "350     0.000447       pct_nh_white_alone_cen_2010\n",
       "512     0.000408  pct_not_mrdcple_hhd_acsmoe_08_12\n",
       "15      0.000405                   cwd_cohort_1112\n",
       "132     0.000398       age5p_othindic_acsmoe_08_12\n",
       "489     0.000176     pct_born_foreign_acsmoe_08_12\n",
       "540     0.000166     pct_vacant_units_acsmoe_08_12\n",
       "517     0.000156       pct_nonfamily_hhd_acs_08_12\n",
       "319     0.000151            pct_rural_pop_cen_2010\n",
       "13      0.000057                   mwh_cohort_1112\n",
       "387     0.000000    pct_age5p_yiddish_acsmoe_08_12\n",
       "380     0.000000       pct_age5p_italian_acs_08_12\n",
       "390     0.000000     pct_age5p_scandinav_acs_08_12"
      ]
     },
     "execution_count": 23,
     "metadata": {},
     "output_type": "execute_result"
    }
   ],
   "source": [
    "rf_features_df.sort_values('importances', ascending=False).head(19)"
   ]
  },
  {
   "cell_type": "code",
   "execution_count": null,
   "metadata": {},
   "outputs": [],
   "source": []
  },
  {
   "cell_type": "markdown",
   "metadata": {},
   "source": [
    "### Testing droping rate and cohort"
   ]
  },
  {
   "cell_type": "code",
   "execution_count": 24,
   "metadata": {},
   "outputs": [
    {
     "data": {
      "text/plain": [
       "Index(['unnamed: 0', 'leaid11', 'stnam', 'fipst', 'leanm11', 'all_cohort_1112',\n",
       "       'all_rate_1112', 'mam_cohort_1112', 'mam_rate_1112', 'mas_cohort_1112',\n",
       "       'mas_rate_1112', 'mbl_cohort_1112', 'mbl_rate_1112', 'mhi_cohort_1112',\n",
       "       'mhi_rate_1112', 'mtr_cohort_1112', 'mtr_rate_1112', 'mwh_cohort_1112',\n",
       "       'mwh_rate_1112', 'cwd_cohort_1112', 'cwd_rate_1112', 'ecd_cohort_1112',\n",
       "       'ecd_rate_1112', 'lep_cohort_1112', 'percentage', 'state', 'county',\n",
       "       'tract.code', 'school.district', 'district.id', 'gidtr', 'state.1',\n",
       "       'state_name', 'county.1', 'county_name', 'tract', 'flag',\n",
       "       'num_bgs_in_tract'],\n",
       "      dtype='object')"
      ]
     },
     "execution_count": 24,
     "metadata": {},
     "output_type": "execute_result"
    }
   ],
   "source": [
    "pre_merged.columns[:38]"
   ]
  },
  {
   "cell_type": "code",
   "execution_count": 25,
   "metadata": {},
   "outputs": [],
   "source": [
    "no_rate_to_drop_col = list(pre_merged._get_numeric_data().columns[:33])"
   ]
  },
  {
   "cell_type": "code",
   "execution_count": 26,
   "metadata": {},
   "outputs": [],
   "source": [
    "X_no_rates = pre_merged._get_numeric_data().drop(no_rate_to_drop_col, axis=1)\n",
    "y_no_rates = pre_merged['all_rate_1112']\n",
    "X_no_rates.fillna(0, inplace=True)\n",
    "y_no_rates.fillna(0, inplace=True)"
   ]
  },
  {
   "cell_type": "code",
   "execution_count": 27,
   "metadata": {},
   "outputs": [],
   "source": [
    "rf_no_rate = RandomForestRegressor(n_estimators=6, max_depth=10)\n",
    "rf_no_rate.fit(X_no_rates, y_no_rates)\n",
    "\n",
    "rf_no_rate_features_df = pd.DataFrame()\n",
    "rf_no_rate_features_df['importances'] = rf_no_rate.feature_importances_\n",
    "rf_no_rate_features_df['feature'] = X_no_rates.columns"
   ]
  },
  {
   "cell_type": "code",
   "execution_count": 28,
   "metadata": {},
   "outputs": [
    {
     "data": {
      "text/plain": [
       "0.565978489992086"
      ]
     },
     "execution_count": 28,
     "metadata": {},
     "output_type": "execute_result"
    }
   ],
   "source": [
    "rf_no_rate.score(X_no_rates, y_no_rates)"
   ]
  },
  {
   "cell_type": "code",
   "execution_count": 29,
   "metadata": {},
   "outputs": [
    {
     "data": {
      "text/html": [
       "<div>\n",
       "<style>\n",
       "    .dataframe thead tr:only-child th {\n",
       "        text-align: right;\n",
       "    }\n",
       "\n",
       "    .dataframe thead th {\n",
       "        text-align: left;\n",
       "    }\n",
       "\n",
       "    .dataframe tbody tr th {\n",
       "        vertical-align: top;\n",
       "    }\n",
       "</style>\n",
       "<table border=\"1\" class=\"dataframe\">\n",
       "  <thead>\n",
       "    <tr style=\"text-align: right;\">\n",
       "      <th></th>\n",
       "      <th>importances</th>\n",
       "      <th>feature</th>\n",
       "    </tr>\n",
       "  </thead>\n",
       "  <tbody>\n",
       "    <tr>\n",
       "      <th>0</th>\n",
       "      <td>0.271942</td>\n",
       "      <td>land_area</td>\n",
       "    </tr>\n",
       "    <tr>\n",
       "      <th>539</th>\n",
       "      <td>0.040052</td>\n",
       "      <td>pct_frst_frms_cen_2010</td>\n",
       "    </tr>\n",
       "    <tr>\n",
       "      <th>233</th>\n",
       "      <td>0.018434</td>\n",
       "      <td>med_hhd_inc_acs_08_12</td>\n",
       "    </tr>\n",
       "    <tr>\n",
       "      <th>322</th>\n",
       "      <td>0.018022</td>\n",
       "      <td>pct_nh_blk_alone_cen_2010</td>\n",
       "    </tr>\n",
       "    <tr>\n",
       "      <th>346</th>\n",
       "      <td>0.013900</td>\n",
       "      <td>pct_age5p_french_acsmoe_08_12</td>\n",
       "    </tr>\n",
       "    <tr>\n",
       "      <th>279</th>\n",
       "      <td>0.012950</td>\n",
       "      <td>valid_mailback_count_cen_2010</td>\n",
       "    </tr>\n",
       "    <tr>\n",
       "      <th>534</th>\n",
       "      <td>0.011080</td>\n",
       "      <td>pct_census_mail_returns_cen_2010</td>\n",
       "    </tr>\n",
       "    <tr>\n",
       "      <th>523</th>\n",
       "      <td>0.010334</td>\n",
       "      <td>pct_mobile_homes_acsmoe_08_12</td>\n",
       "    </tr>\n",
       "    <tr>\n",
       "      <th>38</th>\n",
       "      <td>0.010058</td>\n",
       "      <td>nh_white_alone_cen_2010</td>\n",
       "    </tr>\n",
       "    <tr>\n",
       "      <th>517</th>\n",
       "      <td>0.009885</td>\n",
       "      <td>pct_single_unit_acsmoe_08_12</td>\n",
       "    </tr>\n",
       "    <tr>\n",
       "      <th>230</th>\n",
       "      <td>0.008213</td>\n",
       "      <td>hhd_moved_in_acsmoe_08_12</td>\n",
       "    </tr>\n",
       "    <tr>\n",
       "      <th>270</th>\n",
       "      <td>0.008142</td>\n",
       "      <td>aggr_house_value_acs_08_12</td>\n",
       "    </tr>\n",
       "    <tr>\n",
       "      <th>532</th>\n",
       "      <td>0.007486</td>\n",
       "      <td>pct_tea_mailoutmailback_cen_2010</td>\n",
       "    </tr>\n",
       "    <tr>\n",
       "      <th>516</th>\n",
       "      <td>0.007213</td>\n",
       "      <td>pct_single_unit_acs_08_12</td>\n",
       "    </tr>\n",
       "    <tr>\n",
       "      <th>354</th>\n",
       "      <td>0.006953</td>\n",
       "      <td>pct_age5p_german_acsmoe_08_12</td>\n",
       "    </tr>\n",
       "    <tr>\n",
       "      <th>482</th>\n",
       "      <td>0.006754</td>\n",
       "      <td>pct_female_no_hb_cen_2010</td>\n",
       "    </tr>\n",
       "    <tr>\n",
       "      <th>222</th>\n",
       "      <td>0.006249</td>\n",
       "      <td>hhd_ppl_und_18_acsmoe_08_12</td>\n",
       "    </tr>\n",
       "    <tr>\n",
       "      <th>325</th>\n",
       "      <td>0.006102</td>\n",
       "      <td>pct_nh_aian_alone_cen_2010</td>\n",
       "    </tr>\n",
       "    <tr>\n",
       "      <th>263</th>\n",
       "      <td>0.005939</td>\n",
       "      <td>occp_u_no_ph_srvc_acsmoe_08_12</td>\n",
       "    </tr>\n",
       "    <tr>\n",
       "      <th>254</th>\n",
       "      <td>0.005884</td>\n",
       "      <td>mlt_u2_9_strc_acs_08_12</td>\n",
       "    </tr>\n",
       "    <tr>\n",
       "      <th>307</th>\n",
       "      <td>0.005791</td>\n",
       "      <td>pct_pop_45_64_cen_2010</td>\n",
       "    </tr>\n",
       "    <tr>\n",
       "      <th>496</th>\n",
       "      <td>0.005658</td>\n",
       "      <td>avg_tot_prns_in_hhd_acsmoe_08_12</td>\n",
       "    </tr>\n",
       "    <tr>\n",
       "      <th>448</th>\n",
       "      <td>0.005530</td>\n",
       "      <td>pct_civ_emp_65p_acsmoe_08_12</td>\n",
       "    </tr>\n",
       "    <tr>\n",
       "      <th>44</th>\n",
       "      <td>0.005384</td>\n",
       "      <td>nh_aian_alone_cen_2010</td>\n",
       "    </tr>\n",
       "    <tr>\n",
       "      <th>268</th>\n",
       "      <td>0.005371</td>\n",
       "      <td>med_house_value_acs_08_12</td>\n",
       "    </tr>\n",
       "  </tbody>\n",
       "</table>\n",
       "</div>"
      ],
      "text/plain": [
       "     importances                           feature\n",
       "0       0.271942                         land_area\n",
       "539     0.040052            pct_frst_frms_cen_2010\n",
       "233     0.018434             med_hhd_inc_acs_08_12\n",
       "322     0.018022         pct_nh_blk_alone_cen_2010\n",
       "346     0.013900     pct_age5p_french_acsmoe_08_12\n",
       "279     0.012950     valid_mailback_count_cen_2010\n",
       "534     0.011080  pct_census_mail_returns_cen_2010\n",
       "523     0.010334     pct_mobile_homes_acsmoe_08_12\n",
       "38      0.010058           nh_white_alone_cen_2010\n",
       "517     0.009885      pct_single_unit_acsmoe_08_12\n",
       "230     0.008213         hhd_moved_in_acsmoe_08_12\n",
       "270     0.008142        aggr_house_value_acs_08_12\n",
       "532     0.007486  pct_tea_mailoutmailback_cen_2010\n",
       "516     0.007213         pct_single_unit_acs_08_12\n",
       "354     0.006953     pct_age5p_german_acsmoe_08_12\n",
       "482     0.006754         pct_female_no_hb_cen_2010\n",
       "222     0.006249       hhd_ppl_und_18_acsmoe_08_12\n",
       "325     0.006102        pct_nh_aian_alone_cen_2010\n",
       "263     0.005939    occp_u_no_ph_srvc_acsmoe_08_12\n",
       "254     0.005884           mlt_u2_9_strc_acs_08_12\n",
       "307     0.005791            pct_pop_45_64_cen_2010\n",
       "496     0.005658  avg_tot_prns_in_hhd_acsmoe_08_12\n",
       "448     0.005530      pct_civ_emp_65p_acsmoe_08_12\n",
       "44      0.005384            nh_aian_alone_cen_2010\n",
       "268     0.005371         med_house_value_acs_08_12"
      ]
     },
     "execution_count": 29,
     "metadata": {},
     "output_type": "execute_result"
    }
   ],
   "source": [
    "rf_no_rate_features_df.sort_values('importances', ascending=False).head(25)"
   ]
  },
  {
   "cell_type": "code",
   "execution_count": null,
   "metadata": {},
   "outputs": [],
   "source": [
    "# identify the most relevant and then build a model that is most relavent\n",
    "# regress out values you cannot control\n",
    "\n",
    "# corrolation between features that can be changed"
   ]
  },
  {
   "cell_type": "code",
   "execution_count": null,
   "metadata": {},
   "outputs": [],
   "source": [
    "# # TRY\n",
    "\n",
    "# what is corrolerated to whiteness -- sklearn.preprocessing.PolynomialFeatures\n",
    "\n",
    "    # pca see what each combined feature is --> singular_values_ \n",
    "    # also try truncated svd -- works better for sparse matrix (values are mostly zeros)"
   ]
  },
  {
   "cell_type": "code",
   "execution_count": null,
   "metadata": {},
   "outputs": [],
   "source": [
    "# recommender\n",
    "# input school district and search for the other values\n",
    "# they would then imput what they want to change\n",
    "\n",
    "# model would be based on state\n",
    "\n",
    "# linear regression -- positive corr if you increase it increases the model\n",
    "# beta value for teacher salary will be in dollars\n",
    "\n",
    "# what does it mean to increase by 5%??\n",
    "#     if all values are percentages\n",
    "# for teacher salary you could find a mean or max and do a percentage of that (if you do max its a min-max scalar)\n",
    "\n",
    "# still report how accuratly it is predicting graduation rates"
   ]
  },
  {
   "cell_type": "code",
   "execution_count": null,
   "metadata": {},
   "outputs": [],
   "source": [
    "# # Rename the revenue columns\n",
    "\n",
    "# rev_renamed          = ['GEOTYPE', 'ST', 'GEO_ID', 'GEO_TTL', 'YEAR', 'enroll', 'total_rev', 'total_fed', 't1_fed',\n",
    "#                         'special_fed', 'nutrition_fed', 'non_spec_fed', 'total_state', 'gen_formula_state',\n",
    "#                         'special_state', 'transportation_state', 'non_spec_state', 'total_local', 'taxes_local',\n",
    "#                         'property_tax_local', 'parent_government_local', 'cities_county_local', 'other_schools_local',\n",
    "#                         'charges_local', 'other_local']\n",
    "\n",
    "# expenses_renamed     = ['GEOTYPE', 'ST', 'GEO_ID', 'GEO_TTL', 'YEAR', 'enroll_expnd', 'total_expnd', 'current_expnd', \n",
    "#                         'salary_wage_expnd', 'employee_benefits_expnd', 'instruction_total_expnd',\n",
    "#                         'instruction_salary_wage_expnd', 'instruction_employee_benefits_expnd',\n",
    "#                         'support_total_expnd', 'pupil_support_expnd', 'instructional_support_expnd',\n",
    "#                         'services_general_administration_expnd', 'services_school_administration_expnd',\n",
    "#                         'other_non_spec_expnd', 'functions_other_expnd', 'capital_outlay_expnd',\n",
    "#                         'intergovernmental_expnd', 'interest_on_debt_expnd']\n",
    "\n",
    "# distribution_renamed = ['GEOTYPE', 'ST', 'GEO_ID', 'GEO_TTL', 'YEAR', 'enrollment_distribution', 'total_rev_percent',\n",
    "#                         'total_rev_fed_percent', 't1_rev_fed_percent', 'total_state_percent',\n",
    "#                         'general_assistance_formula_state_rev_percent', 'total_local_rev',\n",
    "#                         'taxes_parent_government_local_rev_percent', 'other_local_government_rev_percent',\n",
    "#                         'charges_local_rev_percent']\n",
    "\n",
    "# per_pupil_renamed    = ['GEOTYPE', 'ST', 'GEO_ID', 'GEO_TTL', 'YEAR', 'enroll_per_pupil', 'total_expnd_per_pupil',\n",
    "#                         'objects_salary_wage_per_pupil', 'objects_employee_benefits_per_pupil',\n",
    "#                         'instruction_total_per_pupil', 'instruction_salary_wages_per_pupil', \n",
    "#                         'instruction_employee_benefits_per_pupil', 'suport_services_total_per_pupil', \n",
    "#                         'pupil_support_per_pupil', 'instruction_staff_support_per_pupil', \n",
    "#                         'services_general_admin_per_pupil', 'services_school_admin_per_pupil']"
   ]
  },
  {
   "cell_type": "code",
   "execution_count": null,
   "metadata": {},
   "outputs": [],
   "source": []
  },
  {
   "cell_type": "code",
   "execution_count": null,
   "metadata": {},
   "outputs": [],
   "source": []
  },
  {
   "cell_type": "code",
   "execution_count": null,
   "metadata": {},
   "outputs": [],
   "source": []
  },
  {
   "cell_type": "code",
   "execution_count": null,
   "metadata": {},
   "outputs": [],
   "source": [
    "# languages make english and enlgish as a second language"
   ]
  },
  {
   "cell_type": "code",
   "execution_count": null,
   "metadata": {},
   "outputs": [],
   "source": []
  },
  {
   "cell_type": "code",
   "execution_count": 31,
   "metadata": {},
   "outputs": [],
   "source": [
    "import pickle"
   ]
  },
  {
   "cell_type": "code",
   "execution_count": 32,
   "metadata": {},
   "outputs": [],
   "source": [
    "# pickle.dump(rf_no_rate, 'C:\\Users\\Mark\\GA\\Projects\\project-3')"
   ]
  },
  {
   "cell_type": "code",
   "execution_count": 34,
   "metadata": {},
   "outputs": [],
   "source": [
    "with open('C:/Users/Mark/GA/Projects/project-3/foo.pkl', 'wb+') as f:\n",
    "    pickle.dump(rf_no_rate, f)"
   ]
  },
  {
   "cell_type": "code",
   "execution_count": 35,
   "metadata": {},
   "outputs": [],
   "source": [
    "with open('C:/Users/Mark/GA/Projects/project-3/foo.pkl', 'rb') as f:\n",
    "    foo = pickle.load(f)"
   ]
  },
  {
   "cell_type": "code",
   "execution_count": 36,
   "metadata": {},
   "outputs": [
    {
     "data": {
      "text/plain": [
       "<bound method RegressorMixin.score of RandomForestRegressor(bootstrap=True, criterion='mse', max_depth=10,\n",
       "           max_features='auto', max_leaf_nodes=None,\n",
       "           min_impurity_decrease=0.0, min_impurity_split=None,\n",
       "           min_samples_leaf=1, min_samples_split=2,\n",
       "           min_weight_fraction_leaf=0.0, n_estimators=6, n_jobs=1,\n",
       "           oob_score=False, random_state=None, verbose=0, warm_start=False)>"
      ]
     },
     "execution_count": 36,
     "metadata": {},
     "output_type": "execute_result"
    }
   ],
   "source": [
    "foo.score"
   ]
  },
  {
   "cell_type": "code",
   "execution_count": null,
   "metadata": {},
   "outputs": [],
   "source": []
  },
  {
   "cell_type": "code",
   "execution_count": null,
   "metadata": {},
   "outputs": [],
   "source": []
  },
  {
   "cell_type": "code",
   "execution_count": null,
   "metadata": {},
   "outputs": [],
   "source": []
  },
  {
   "cell_type": "code",
   "execution_count": null,
   "metadata": {},
   "outputs": [],
   "source": []
  },
  {
   "cell_type": "code",
   "execution_count": null,
   "metadata": {},
   "outputs": [],
   "source": []
  },
  {
   "cell_type": "code",
   "execution_count": null,
   "metadata": {},
   "outputs": [],
   "source": []
  },
  {
   "cell_type": "markdown",
   "metadata": {},
   "source": [
    "### Google Code Challenge\n",
    "\n",
    "Solar Doomsday\n",
    "==============\n",
    "\n",
    "Who would've guessed? Doomsday devices take a LOT of power. Commander Lambda wants to supplement the LAMBCHOP's quantum antimatter reactor core with solar arrays, and she's tasked you with setting up the solar panels. \n",
    "\n",
    "Due to the nature of the space station's outer paneling, all of its solar panels must be squares. Fortunately, you have one very large and flat area of solar material, a pair of industrial-strength scissors, and enough MegaCorp Solar Tape(TM) to piece together any excess panel material into more squares. For example, if you had a total area of 12 square yards of solar material, you would be able to make one 3x3 square panel (with a total area of 9). That would leave 3 square yards, so you can turn those into three 1x1 square solar panels.\n",
    "\n",
    "Write a function answer(area) that takes as its input a single unit of measure representing the total area of solar panels you have (between 1 and 1000000 inclusive) and returns a list of the areas of the largest squares you could make out of those panels, starting with the largest squares first. So, following the example above, answer(12) would return [9, 1, 1, 1].\n",
    "\n",
    "Test cases\n",
    "==========\n",
    "\n",
    "Inputs:\n",
    "    (int) area = 12\n",
    "Output:\n",
    "    (int list) [9, 1, 1, 1]\n",
    "\n",
    "Inputs:\n",
    "    (int) area = 15324\n",
    "Output:\n",
    "    (int list) [15129, 169, 25, 1]\n",
    "\n",
    "Use verify [file] to test your solution and see how it does. When you are finished editing your code, use submit [file] to submit your answer. If your solution passes the test cases, it will be removed from your home folder."
   ]
  },
  {
   "cell_type": "code",
   "execution_count": null,
   "metadata": {},
   "outputs": [],
   "source": [
    "def answer(area):\n",
    "    x = area\n",
    "    answer = []\n",
    "    while area > 0:\n",
    "        if x**(.5) == int(x**(.5)):\n",
    "            answer.append(x)\n",
    "            area -= x\n",
    "            x = area\n",
    "            continue\n",
    "        x -= 1\n",
    "    return answer"
   ]
  },
  {
   "cell_type": "code",
   "execution_count": null,
   "metadata": {},
   "outputs": [],
   "source": [
    "answer(12)"
   ]
  },
  {
   "cell_type": "code",
   "execution_count": 16,
   "metadata": {},
   "outputs": [
    {
     "data": {
      "text/plain": [
       "(9907, 580)"
      ]
     },
     "execution_count": 16,
     "metadata": {},
     "output_type": "execute_result"
    }
   ],
   "source": [
    "pre_merged.shape"
   ]
  },
  {
   "cell_type": "code",
   "execution_count": null,
   "metadata": {},
   "outputs": [],
   "source": []
  }
 ],
 "metadata": {
  "kernelspec": {
   "display_name": "Python 3",
   "language": "python",
   "name": "python3"
  },
  "language_info": {
   "codemirror_mode": {
    "name": "ipython",
    "version": 3
   },
   "file_extension": ".py",
   "mimetype": "text/x-python",
   "name": "python",
   "nbconvert_exporter": "python",
   "pygments_lexer": "ipython3",
   "version": "3.6.3"
  }
 },
 "nbformat": 4,
 "nbformat_minor": 2
}
